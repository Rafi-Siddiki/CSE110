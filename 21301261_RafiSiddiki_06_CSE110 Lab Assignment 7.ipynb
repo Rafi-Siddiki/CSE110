{
 "cells": [
  {
   "cell_type": "markdown",
   "metadata": {
    "id": "oMYzsTcnHEll"
   },
   "source": [
    "# CSE110 Lab Assignment 7 on Sorting and Searching\n",
    "\n",
    "Write your name, Student ID and CSE110 section below:\n"
   ]
  },
  {
   "cell_type": "code",
   "execution_count": null,
   "metadata": {
    "id": "ljd7OxU2gvWb"
   },
   "outputs": [],
   "source": [
    "#STUDENT NAME:Rafi Siddiki\n",
    "#STUDENT ID:21301261\n",
    "#CSE110 SECTION:06"
   ]
  },
  {
   "cell_type": "markdown",
   "metadata": {
    "id": "jT-t2zlnHEll"
   },
   "source": [
    "## Write the Python code for the following problems:\n",
    "**<font color='red'>[MUST MAINTAIN VARIABLE NAMING CONVENTIONS FOR ALL THE TASKS]</font>**\n",
    "\n",
    "### Task 1\n",
    "\n",
    "Suppose you have a list named my_list as given below. <br/>\n",
    "my_list = [10,1,20,3,6,2,5,11,15,2,12,14,17,18,29] <br/>\n",
    "Now use bubble sort to sort my_list into ascending order.\n",
    "\n",
    "**Output**<br/>\n",
    "[1, 2, 2, 3, 5, 6, 10, 11, 12, 14, 15, 17, 18, 20, 29]"
   ]
  },
  {
   "cell_type": "code",
   "execution_count": 8,
   "metadata": {
    "id": "7qXVakLgHElm"
   },
   "outputs": [
    {
     "name": "stdout",
     "output_type": "stream",
     "text": [
      "[1, 2, 2, 3, 5, 6, 10, 11, 12, 14, 15, 17, 18, 20, 29]\n"
     ]
    }
   ],
   "source": [
    "#todo - Bubble sort starts arranging the elements from the top\n",
    "def buuble_sort(my_list):\n",
    "    for count1 in range(len(my_list)-1,0,-1):\n",
    "        for count2 in range(count1):\n",
    "            if my_list[count2]>my_list[count2+1]:\n",
    "                temp = my_list[count2]\n",
    "                my_list[count2]=my_list[count2+1]\n",
    "                my_list[count2+1]=temp\n",
    "my_list=[10,1,20,3,6,2,5,11,15,2,12,14,17,18,29]\n",
    "buuble_sort(my_list)\n",
    "print(my_list)"
   ]
  },
  {
   "cell_type": "markdown",
   "metadata": {
    "id": "w1QgeWd2HElp"
   },
   "source": [
    "### Task 2\n",
    "\n",
    "Suppose you have a list named my_list as given below. <br/>\n",
    "my_list = [10,1,20,3,6,2,5,11,15,2,12,14,17,18,29] <br/>\n",
    "Now use selection sort to sort my_list into ascending order.\n",
    "\n",
    "**Output**<br/>\n",
    "[1, 2, 2, 3, 5, 6, 10, 11, 12, 14, 15, 17, 18, 20, 29]\n",
    "\n"
   ]
  },
  {
   "cell_type": "code",
   "execution_count": 30,
   "metadata": {
    "id": "am0B_8ICHElq"
   },
   "outputs": [
    {
     "name": "stdout",
     "output_type": "stream",
     "text": [
      "[1, 2, 2, 3, 5, 6, 10, 11, 12, 14, 15, 17, 18, 20, 29]\n"
     ]
    }
   ],
   "source": [
    "#todo Selection sort starts arranging the elements from the bottom\n",
    "def selction_sort(my_list):\n",
    "    for idx1 in range(len(my_list)):\n",
    "        min_value=my_list[idx1]\n",
    "        min_idx=idx1\n",
    "        for idx2 in range(idx1+1,len(my_list)):\n",
    "            if my_list[idx2]<min_value:\n",
    "                min_value=my_list[idx2]\n",
    "                min_idx=idx2\n",
    "        temp=my_list[min_idx]\n",
    "        my_list[min_idx]=my_list[idx1]\n",
    "        my_list[idx1]=temp\n",
    "    return my_list\n",
    "my_list = [10,1,20,3,6,2,5,11,15,2,12,14,17,18,29]\n",
    "print(selction_sort(my_list))"
   ]
  },
  {
   "cell_type": "markdown",
   "metadata": {
    "id": "j4ffr2CAHElt"
   },
   "source": [
    "### Task  3\n",
    "\n",
    "Suppose you have a list named my_list as given below <br/>\n",
    "my_list=[10,1,20,3,6,2,5,11,15,2,12,14,17,18,29] <br/>\n",
    "Now use any of the two sorting techniques you have used above to sort the list in descending order.\n",
    "\n",
    "**Output**<br/>\n",
    "[29, 20, 18, 17, 15, 14, 12, 11, 10, 6, 5, 3, 2, 2, 1]\n"
   ]
  },
  {
   "cell_type": "code",
   "execution_count": 1,
   "metadata": {
    "id": "n2X3YR-_HElt"
   },
   "outputs": [
    {
     "name": "stdout",
     "output_type": "stream",
     "text": [
      "[29, 20, 18, 17, 15, 14, 12, 11, 10, 6, 5, 3, 2, 2, 1]\n"
     ]
    }
   ],
   "source": [
    "#todo\n",
    "def bubble_sort(my_list):\n",
    "    for count1 in range(len(my_list)-1,0,-1):\n",
    "        for count2 in range(count1):\n",
    "            if my_list[count2]<my_list[count2+1]:\n",
    "                temp = my_list[count2]\n",
    "                my_list[count2]=my_list[count2+1]\n",
    "                my_list[count2+1]=temp\n",
    "my_list=[10,1,20,3,6,2,5,11,15,2,12,14,17,18,29]\n",
    "bubble_sort(my_list)\n",
    "print(my_list)"
   ]
  },
  {
   "cell_type": "markdown",
   "metadata": {
    "id": "9iYiiTWWHElw"
   },
   "source": [
    "### Task 4\n",
    "\n",
    "Suppose you have a sitting arrangement of the students who will give the final exam in a list. The list contains the last two digits of their student ID as given below.<br/>\n",
    "\n",
    "sitting_list = [10,30,20,70,11,15,22,16,58,100,12,56,70,80] <br/>\n",
    "\n",
    "Now you want to organize the sitting arrangement of the students in your own way. You decide to sort all the students in the even indices of the list in ascending order and all the students in the odd indices of the list in descending order.  <br/>\n",
    "\n",
    "So, write a python program that organizes the list for you in this way.<br/>\n",
    "\n",
    "\n",
    "**Sample Output**<br/>\n",
    "[10, 100, 11, 80, 12, 70, 20, 56, 22, 30, 58, 16, 70, 15]"
   ]
  },
  {
   "cell_type": "code",
   "execution_count": 10,
   "metadata": {
    "id": "nPdUAKDJHElw"
   },
   "outputs": [
    {
     "name": "stdout",
     "output_type": "stream",
     "text": [
      "[10, 100, 11, 80, 12, 70, 20, 56, 22, 30, 58, 16, 70, 15]\n"
     ]
    }
   ],
   "source": [
    "#todo\n",
    "sitting_list = [10,30,20,70,11,15,22,16,58,100,12,56,70,80]\n",
    "for count1 in range(0,len(sitting_list),2):\n",
    "    for count2 in range(0,len(sitting_list)-2,2):\n",
    "        if sitting_list[count2]>sitting_list[count2+2]:\n",
    "            sitting_list[count2],sitting_list[count2+2]=sitting_list[count2+2],sitting_list[count2]\n",
    "for count1 in range(1,len(sitting_list),2):\n",
    "    for count2 in range(1,len(sitting_list)-2,2):\n",
    "        if sitting_list[count2]<sitting_list[count2+2]:\n",
    "            sitting_list[count2],sitting_list[count2+2]=sitting_list[count2+2],sitting_list[count2]\n",
    "print(sitting_list)"
   ]
  },
  {
   "cell_type": "markdown",
   "metadata": {
    "id": "oVR1Tsa0HElz"
   },
   "source": [
    "### Task 5\n",
    "\n",
    "Suppose a list contains marks earned in the courses CSE110, PHY111, and MAT110 of each student consecutively in a nested list form. Your task is to take a course name as input from the user and sort the list based on the marks obtained in that course in order to finally print the names of the students in descending order of marks obtained i.e. from the student who earned the highest marks to the student who earned the lowest. <br/>\n",
    "\n",
    "For example, the list may look like <br/>\n",
    "lst = [ [\"Alan\", 95, 87, 91], [\"Turing\", 92, 90, 83], [\"Elon\", 87, 92, 80], [\"Musk\", 85, 94, 90] ] <br/>\n",
    "where for each nested list, 1st index holds the name of the student, 2nd index is total marks earned in the CSE110 course, 3rd index is PHY111 marks and 4th index is MAT110 marks. \n",
    "\n",
    "=====================================================\n",
    "\n",
    "**Hint:**<br/>\n",
    "You may create a function for sorting, then call it every time when needed instead of rewriting the code.\n",
    "\n",
    "You may get the data in the individual lists from the given nested list.\n",
    "\n",
    "=====================================================\n",
    "\n",
    "**Sample Input 1**<br/>\n",
    "MAT110\n",
    "\n",
    "**Sample Output 1**<br/>\n",
    "Alan <br/>\n",
    "Musk <br/>\n",
    "Turing <br/>\n",
    "Elon\n",
    "\n",
    "**Explanation:**<br/>\n",
    "Here the user gives us \"MAT110\" as the course name. Now, the students Alan, Turing, Elon and Musk earned 91, 83, 80 and 90 marks respectively in this course. If we sort it, Alan got the highest marks of 91 followed by Musk with 90 marks and Turing with 83 marks. Among these 4 students, Elon obtained the lowest marks in the MAT110 course with 80 marks. All of these has been illustrated in our sample output.\n",
    "\n",
    "=====================================================\n",
    "\n",
    "**Sample Input 2**<br/>\n",
    "PHY111\n",
    "\n",
    "**Sample Output 2**<br/>\n",
    "Musk <br/>\n",
    "Elon <br/>\n",
    "Turing <br/>\n",
    "Alan"
   ]
  },
  {
   "cell_type": "code",
   "execution_count": 14,
   "metadata": {
    "id": "539b2P1NHElz"
   },
   "outputs": [
    {
     "name": "stdout",
     "output_type": "stream",
     "text": [
      "PHY111\n",
      "Musk\n",
      "Elon\n",
      "Turing\n",
      "Alan\n"
     ]
    }
   ],
   "source": [
    "#todo\n",
    "def selection_sort(marks,name):\n",
    "    for idx1 in range(len(marks)):\n",
    "        max_value=marks[idx1]\n",
    "        for idx2 in range(idx1+1,len(marks)):\n",
    "            if marks[idx2]>max_value:\n",
    "                max_value=marks[idx2]\n",
    "                marks[idx1],marks[idx2]=marks[idx2],marks[idx1]\n",
    "                name[idx1],name[idx2]=name[idx2],name[idx1]\n",
    "    return name\n",
    "lst = [ [\"Alan\", 95, 87, 91], [\"Turing\", 92, 90, 83], [\"Elon\", 87, 92, 80], [\"Musk\", 85, 94, 90] ]\n",
    "course=input()\n",
    "marks=[]\n",
    "name=[]\n",
    "if course=='CSE110':\n",
    "    for lists in lst:\n",
    "        for count in range(len(lists)):\n",
    "            if count==0:\n",
    "                name.append(lists[count])\n",
    "            elif count==1:\n",
    "                marks.append(lists[count])\n",
    "elif course=='PHY111':\n",
    "    for lists in lst:\n",
    "        for count in range(len(lists)):\n",
    "            if count==0:\n",
    "                name.append(lists[count])\n",
    "            elif count==2:\n",
    "                marks.append(lists[count])\n",
    "elif course=='MAT110':\n",
    "    for lists in lst:\n",
    "        for count in range(len(lists)):\n",
    "            if count==0:\n",
    "                name.append(lists[count])\n",
    "            elif count==3:\n",
    "                marks.append(lists[count])\n",
    "selection_sort(marks,name)\n",
    "for elem in name:\n",
    "    print(elem)"
   ]
  },
  {
   "cell_type": "markdown",
   "metadata": {
    "id": "B0Rqbyi4HEl2"
   },
   "source": [
    "### Task 6\n",
    "\n",
    "Suppose you have a list named my_list as given below. Your task is to sort the list in ascending order and print the count of numbers that have changed their positions in the process of sorting. <br/>\n",
    "\n",
    "my_list = [4, 2, 3, 1, 6, 5] <br/>\n",
    "\n",
    "Sorted list would be [1, 2, 3, 4, 5, 6] where 4 numbers (4, 1, 6 and 5) have changed their positions. Therefore our sample output here would be 4. Please check if your code is working correctly by changing the above list and using the knowledge given here to verify whether your code gives correct output for all different lists.\n",
    "\n",
    "\n",
    "**Sample Output for the above list**<br/>\n",
    "4"
   ]
  },
  {
   "cell_type": "code",
   "execution_count": 30,
   "metadata": {
    "id": "AMc8jAa7HEl2"
   },
   "outputs": [
    {
     "name": "stdout",
     "output_type": "stream",
     "text": [
      "4\n"
     ]
    }
   ],
   "source": [
    "#todo\n",
    "my_list = [4, 2, 3, 1, 6, 5]\n",
    "count=1\n",
    "for idx1 in range(len(my_list)):\n",
    "    min_value=my_list[idx1]\n",
    "    min_idx=idx1\n",
    "    for idx2 in range(idx1+1,len(my_list)):\n",
    "        if my_list[idx2]<min_value:\n",
    "            min_value=my_list[idx2]\n",
    "            min_idx=idx2\n",
    "            count+=1\n",
    "    my_list[min_idx],my_list[idx1]=my_list[idx1],my_list[min_idx]\n",
    "print(count)"
   ]
  },
  {
   "cell_type": "markdown",
   "metadata": {
    "id": "iIH5n0sJHEl5"
   },
   "source": [
    "### Task 7\n",
    "\n",
    "Write a python program that takes two lists from the user, merges the two lists, sorts the resulting list, and then finds the median of the elements in the two lists.\n",
    "\n",
    "=====================================================\n",
    "\n",
    "\n",
    "**Sample Input 1**<br/>\n",
    "list_one = [1, 2, 1, 4] <br/>\n",
    "list_two = [5, 4, 1]\n",
    "\n",
    "\n",
    "**Sample Output 1**<br/>\n",
    "Sorted list = [1, 1, 1, 2, 4, 4, 5] <br/>\n",
    "Median = 2\n",
    "\n",
    "=====================================================\n",
    "\n",
    "\n",
    "**Sample Input 2**<br/>\n",
    "list_one = [1, 7, 9, 10] <br/>\n",
    "list_two = [2, 7, 6, 5]\n",
    "\n",
    "\n",
    "**Sample Output 2**<br/>\n",
    "Sorted list = [1, 2, 5, 6, 7, 7, 9, 10] <br/>\n",
    "Median = 6.5\n",
    "\n"
   ]
  },
  {
   "cell_type": "code",
   "execution_count": 6,
   "metadata": {
    "id": "KsFxC7XbHEl6"
   },
   "outputs": [
    {
     "name": "stdout",
     "output_type": "stream",
     "text": [
      "list_one = [1, 7, 9, 10]\n",
      "list_two = [2, 7, 6, 5]\n",
      "Sorted list = [1, 2, 5, 6, 7, 7, 9, 10]\n",
      "Median =  6.5\n"
     ]
    }
   ],
   "source": [
    "#todo\n",
    "def selection_sort(list1):\n",
    "    for idx1 in range(len(list1)):\n",
    "        min_value=list1[idx1]\n",
    "        for idx2 in range(idx1+1,len(list1)):\n",
    "            if list1[idx2]<min_value:\n",
    "                min_value=list1[idx2]\n",
    "                list1[idx1],list1[idx2]=list1[idx2],list1[idx1]\n",
    "main_list=[]\n",
    "list_one=input('list_one = ')\n",
    "list_one=list_one[1:-1:]\n",
    "list_one=list_one.split(',')\n",
    "for elem in list_one:\n",
    "    main_list.append(int(elem))\n",
    "list_two=input('list_two = ')\n",
    "list_two=list_two[1:-1:]\n",
    "list_two=list_two.split(',')\n",
    "for elem in list_two:\n",
    "    main_list.append(int(elem))\n",
    "selection_sort(main_list)\n",
    "print('Sorted list =', main_list)\n",
    "if len(main_list)%2==0:\n",
    "    med=(len(main_list)-1)//2\n",
    "    med_1=(len(main_list)//2)+1\n",
    "    median=(main_list[med]+main_list[med_1])/2\n",
    "else:\n",
    "    med=(len(main_list)-1)//2\n",
    "    median=main_list[med]\n",
    "print('Median = ',median)"
   ]
  },
  {
   "cell_type": "markdown",
   "metadata": {
    "id": "-XKiwBR1HEl8"
   },
   "source": [
    "### Task 8\n",
    "\n",
    "\n",
    "Write a python program that takes a list from user containing both positive and negative numbers. The program then finds two pairs of values whose summation is closest to zero.\n",
    "\n",
    "=====================================================\n",
    "\n",
    "**Sample Input 1**<br/>\n",
    "list_one = [-10, 15, 2, 4, -4, 7, -8] \n",
    "\n",
    "\n",
    "**Sample Output 1**<br/>\n",
    "Two pairs which have the smallest sum = 4 and -4\n",
    "\n",
    "=====================================================\n",
    "\n",
    "\n",
    "**Sample Input 2**<br/>\n",
    "list_one = [1, -8, 4, -7, -20, 26, 70, -85]\n",
    "\n",
    "\n",
    "**Sample Output 2**<br/>\n",
    "Two pairs which have the smallest sum = 4 and -7"
   ]
  },
  {
   "cell_type": "code",
   "execution_count": 10,
   "metadata": {
    "id": "5ORSGa5GHEl9"
   },
   "outputs": [
    {
     "name": "stdout",
     "output_type": "stream",
     "text": [
      "list_one = [1, -8, 4, -7, -20, 26, 70, -85]\n",
      "Two pairs which have the smallest sum =  4 and -7\n"
     ]
    }
   ],
   "source": [
    "#todo\n",
    "list1=input('list_one = ')\n",
    "list_one=[]\n",
    "list1=list1[1:-1:]\n",
    "list1=list1.split(',')\n",
    "for elem in list1:\n",
    "    list_one.append(int(elem))\n",
    "min_value=abs(list_one[0]+list_one[1])\n",
    "var1=0\n",
    "var2=0\n",
    "for idx1 in range(len(list_one)):\n",
    "    for idx2 in range(idx1+1,len(list_one)):\n",
    "        total=abs(list_one[idx1]+list_one[idx2])\n",
    "        if total<min_value:\n",
    "            min_value=total\n",
    "            var1=idx1\n",
    "            var2=idx2\n",
    "print('Two pairs which have the smallest sum = ',list_one[var1],'and',list_one[var2])"
   ]
  }
 ],
 "metadata": {
  "colab": {
   "collapsed_sections": [],
   "name": "CSE110 Lab Assignment 7 (Sorting and Searching).ipynb",
   "provenance": []
  },
  "kernelspec": {
   "display_name": "Python 3",
   "language": "python",
   "name": "python3"
  },
  "language_info": {
   "codemirror_mode": {
    "name": "ipython",
    "version": 3
   },
   "file_extension": ".py",
   "mimetype": "text/x-python",
   "name": "python",
   "nbconvert_exporter": "python",
   "pygments_lexer": "ipython3",
   "version": "3.8.8"
  }
 },
 "nbformat": 4,
 "nbformat_minor": 1
}
