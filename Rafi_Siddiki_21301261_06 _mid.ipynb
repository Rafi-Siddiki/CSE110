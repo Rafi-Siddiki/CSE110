{
 "cells": [
  {
   "cell_type": "code",
   "execution_count": 2,
   "metadata": {
    "colab": {
     "base_uri": "https://localhost:8080/"
    },
    "id": "nGGpdI-keE2e",
    "outputId": "160e1d33-0807-4ceb-9734-20969eee678d"
   },
   "outputs": [
    {
     "name": "stdout",
     "output_type": "stream",
     "text": [
      "A,B,C: ABBCBBB\n",
      "AB1CB23\n"
     ]
    }
   ],
   "source": [
    "string=input(\"A,B,C: \")\n",
    "temp=\"\"\n",
    "num=0\n",
    "if len(string)==7:\n",
    "    for i in range(1,len(string)):\n",
    "     if string[i]==string[i-1]:\n",
    "            num+=1\n",
    "            temp+=str(num)\n",
    "     else:\n",
    "          temp+=string[i]\n",
    "else:\n",
    "    print(\"Invalid length of sequence\")\n",
    "print(string[0]+temp)"
   ]
  },
  {
   "cell_type": "code",
   "execution_count": 7,
   "metadata": {
    "colab": {
     "base_uri": "https://localhost:8080/"
    },
    "id": "xxk6yM9gtYx2",
    "outputId": "485d36bd-df9a-4117-b9b0-fe4ad355af42"
   },
   "outputs": [
    {
     "name": "stdout",
     "output_type": "stream",
     "text": [
      "ball\n",
      "bellsdahfkdfhhfdboall\n",
      "0\n"
     ]
    }
   ],
   "source": [
    "sentence1=input()\n",
    "sentence2=input()\n",
    "split_value = []\n",
    "tmp = ''\n",
    "num=0\n",
    "for c in sentence2:\n",
    "    if sentence1 in tmp:\n",
    "        split_value.append(tmp)\n",
    "        tmp = ''\n",
    "    else:\n",
    "        tmp += c\n",
    "for i in split_value:\n",
    "    i=sentence1\n",
    "    num+=1\n",
    "print(num)"
   ]
  }
 ],
 "metadata": {
  "colab": {
   "collapsed_sections": [],
   "name": "Rafi Siddiki_21301261_06.ipynb",
   "provenance": []
  },
  "kernelspec": {
   "display_name": "Python 3",
   "language": "python",
   "name": "python3"
  },
  "language_info": {
   "codemirror_mode": {
    "name": "ipython",
    "version": 3
   },
   "file_extension": ".py",
   "mimetype": "text/x-python",
   "name": "python",
   "nbconvert_exporter": "python",
   "pygments_lexer": "ipython3",
   "version": "3.8.8"
  }
 },
 "nbformat": 4,
 "nbformat_minor": 1
}
