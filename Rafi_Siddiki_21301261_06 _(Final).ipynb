{
 "cells": [
  {
   "cell_type": "code",
   "execution_count": 1,
   "id": "ec8670d3",
   "metadata": {},
   "outputs": [
    {
     "name": "stdout",
     "output_type": "stream",
     "text": [
      "i am a student\n",
      "i like apples\n",
      "Done\n",
      "String 1: i am a student\n",
      "Number of words: 4\n",
      "Number of vowels: 5\n",
      "Total length: 14\n",
      "String 2: i like apples\n",
      "Number of words: 3\n",
      "Number of vowels: 5\n",
      "Total length: 13\n"
     ]
    }
   ],
   "source": [
    "flag=True\n",
    "list1=[]\n",
    "vowel='aeiouAEIOU'\n",
    "string=''\n",
    "count=0\n",
    "while flag==True:\n",
    "    inp=input()\n",
    "    if inp=='Done':\n",
    "        flag=False\n",
    "    else:\n",
    "        list1.append(inp)\n",
    "if len(list1)==0:\n",
    "    print('no string was entered')\n",
    "else:\n",
    "    for i in list1:\n",
    "        count+=1\n",
    "        vowel_count=0\n",
    "        var=i.split(' ')\n",
    "        print('String '+str(count)+':',i)\n",
    "        print('Number of words:',len(var))\n",
    "        for j in i:\n",
    "            string+=j\n",
    "        for i in string:\n",
    "            if i in vowel:\n",
    "                vowel_count+=1\n",
    "        print('Number of vowels:',vowel_count)\n",
    "        print('Total length:',len(string))\n",
    "        string=''"
   ]
  },
  {
   "cell_type": "code",
   "execution_count": 21,
   "id": "543ebb5c",
   "metadata": {},
   "outputs": [
    {
     "name": "stdout",
     "output_type": "stream",
     "text": [
      "This  is hard but I can do it!\n",
      "Words:  ['This', 'is', 'hard', 'but', 'I', 'can', 'do', 'it!']\n",
      "{'t': ('this',), 'i': ('is', 'i', 'it!'), 'h': ('hard',), 'b': ('but',), 'c': ('can',), 'd': ('do',)}\n"
     ]
    }
   ],
   "source": [
    "input1 =input()\n",
    "split1 = input1.split(\" \")\n",
    "w_list=[]\n",
    "for i in split1:\n",
    "    if i !='':\n",
    "        w_list.append(i)\n",
    "print('Words: ',w_list)\n",
    "dict1 = {}\n",
    "list2 = []\n",
    "input2 = input1.lower().split(\" \")\n",
    "dict2={}\n",
    "for i in input2:\n",
    "    if i!='':\n",
    "        if i[0] not in dict1:\n",
    "            dict1[i[0]] = [i]\n",
    "        else:\n",
    "            dict1[i[0]]+=[i]\n",
    "for i in dict1:\n",
    "    dict2[i]=tuple(dict1[i])\n",
    "print(dict2)"
   ]
  },
  {
   "cell_type": "code",
   "execution_count": 3,
   "id": "57dcef99",
   "metadata": {},
   "outputs": [
    {
     "name": "stdout",
     "output_type": "stream",
     "text": [
      "[60, 10, 50, 20, 40, 30]\n"
     ]
    }
   ],
   "source": [
    "def weird_sort(lis):\n",
    "    list1=sorted(lis)\n",
    "    list2=sorted(lis, reverse=True)\n",
    "    f_list=[]\n",
    "    for i in range(len(list1)//2):\n",
    "        f_list.append(list2[i])\n",
    "        f_list.append(list1[i]) \n",
    "    print(f_list)\n",
    "weird_sort([10,20,30,40,50,60])"
   ]
  }
 ],
 "metadata": {
  "kernelspec": {
   "display_name": "Python 3",
   "language": "python",
   "name": "python3"
  },
  "language_info": {
   "codemirror_mode": {
    "name": "ipython",
    "version": 3
   },
   "file_extension": ".py",
   "mimetype": "text/x-python",
   "name": "python",
   "nbconvert_exporter": "python",
   "pygments_lexer": "ipython3",
   "version": "3.8.8"
  }
 },
 "nbformat": 4,
 "nbformat_minor": 5
}
